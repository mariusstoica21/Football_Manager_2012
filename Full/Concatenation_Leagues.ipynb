{
 "cells": [
  {
   "cell_type": "markdown",
   "id": "a9fb6649",
   "metadata": {},
   "source": [
    "<h1>Concatenation_Leagues</h1>\n",
    "\n",
    "<b>Cannot be run due to the fact that the full version posted on Github does not have the .txt files with the footballers. In order to run a similar version of the current script, go to the \"Demo/Concatenation_Leagues\" script.\n",
    "\n",
    "<b>Description</b>:\n",
    "\n",
    "The objective of the current script is to import the dataframes from the .csv files \"Dataframes/Premier_League_2012.csv\", \"Dataframes/Championship_2012.csv\" and so on, and concatenate them. The resulted dataframe will be stored in \"Dataframes/Concatenated_2012.csv\"."
   ]
  },
  {
   "cell_type": "code",
   "execution_count": 2,
   "id": "8ffb9dd0",
   "metadata": {},
   "outputs": [],
   "source": [
    "import pandas as pd\n",
    "import numpy as np\n",
    "from IPython.display import display, HTML"
   ]
  },
  {
   "cell_type": "markdown",
   "id": "4d830a6e",
   "metadata": {},
   "source": [
    "Import dataframes from \"Dataframes\" folder"
   ]
  },
  {
   "cell_type": "code",
   "execution_count": 3,
   "id": "caea8e0e",
   "metadata": {},
   "outputs": [],
   "source": [
    "fp_England_1_2012 = 'Dataframes/Premier_League_2012.csv'\n",
    "df_England_1_2012 = pd.read_csv(fp_England_1_2012)\n",
    "\n",
    "fp_England_1_2013 = 'Dataframes/Premier_League_2013.csv'\n",
    "df_England_1_2013 = pd.read_csv(fp_England_1_2013)\n",
    "\n",
    "fp_England_2_2012 = 'Dataframes/Championship_2012.csv'\n",
    "df_England_2_2012 = pd.read_csv(fp_England_2_2012)\n",
    "\n",
    "fp_England_2_2013 = 'Dataframes/Championship_2013.csv'\n",
    "df_England_2_2013 = pd.read_csv(fp_England_2_2013)\n",
    "\n",
    "fp_Spain_1_2012 = 'Dataframes/Liga_BBVA_2012.csv'\n",
    "df_Spain_1_2012 = pd.read_csv(fp_Spain_1_2012)\n",
    "\n",
    "fp_Spain_1_2013 = 'Dataframes/Liga_BBVA_2013.csv'\n",
    "df_Spain_1_2013 = pd.read_csv(fp_Spain_1_2013)\n",
    "\n",
    "fp_Spain_2_2012 = 'Dataframes/Liga_Adelante_2012.csv'\n",
    "df_Spain_2_2012 = pd.read_csv(fp_Spain_2_2012)\n",
    "\n",
    "fp_Spain_2_2013 = 'Dataframes/Liga_Adelante_2013.csv'\n",
    "df_Spain_2_2013 = pd.read_csv(fp_Spain_2_2013)\n",
    "\n",
    "fp_Italy_1_2012 = 'Dataframes/Seria_A_2012.csv'\n",
    "df_Italy_1_2012 = pd.read_csv(fp_Italy_1_2012)\n",
    "\n",
    "fp_Italy_1_2013 = 'Dataframes/Seria_A_2013.csv'\n",
    "df_Italy_1_2013 = pd.read_csv(fp_Italy_1_2013)\n",
    "\n",
    "fp_Italy_2_2012 = 'Dataframes/Serie_B_2012.csv'\n",
    "df_Italy_2_2012 = pd.read_csv(fp_Italy_2_2012)\n",
    "\n",
    "fp_Italy_2_2013 = 'Dataframes/Serie_B_2013.csv'\n",
    "df_Italy_2_2013 = pd.read_csv(fp_Italy_2_2013)\n",
    "\n",
    "fp_Germany_1_2012 = 'Dataframes/Bundesliga_2012.csv'\n",
    "df_Germany_1_2012 = pd.read_csv(fp_Germany_1_2012)\n",
    "\n",
    "fp_Germany_1_2013 = 'Dataframes/Bundesliga_2013.csv'\n",
    "df_Germany_1_2013 = pd.read_csv(fp_Germany_1_2013)\n",
    "\n",
    "fp_Germany_2_2012 = 'Dataframes/Bundesliga_2_2012.csv'\n",
    "df_Germany_2_2012 = pd.read_csv(fp_Germany_2_2012)\n",
    "\n",
    "fp_Germany_2_2013 = 'Dataframes/Bundesliga_2_2013.csv'\n",
    "df_Germany_2_2013 = pd.read_csv(fp_Germany_2_2013)\n",
    "\n",
    "fp_France_1_2012 = 'Dataframes/Ligue_1_2012.csv'\n",
    "df_France_1_2012 = pd.read_csv(fp_France_1_2012)\n",
    "\n",
    "fp_France_1_2013 = 'Dataframes/Ligue_1_2013.csv'\n",
    "df_France_1_2013 = pd.read_csv(fp_France_1_2013)\n",
    "\n",
    "fp_Portugal_1_2012 = 'Dataframes/Portugal_First_League_2012.csv'\n",
    "df_Portugal_1_2012 = pd.read_csv(fp_Portugal_1_2012)\n",
    "\n",
    "fp_Portugal_1_2013 = 'Dataframes/Portugal_First_League_2013.csv'\n",
    "df_Portugal_1_2013 = pd.read_csv(fp_Portugal_1_2013)\n",
    "\n",
    "fp_Belgium_1_2012 = 'Dataframes/Belgium_First_League_2012.csv'\n",
    "df_Belgium_1_2012 = pd.read_csv(fp_Belgium_1_2012)\n",
    "\n",
    "fp_Belgium_1_2013 = 'Dataframes/Belgium_First_League_2013.csv'\n",
    "df_Belgium_1_2013 = pd.read_csv(fp_Belgium_1_2013)\n",
    "\n",
    "fp_Holland_1_2012 = 'Dataframes/Holland_First_League_2012.csv'\n",
    "df_Holland_1_2012 = pd.read_csv(fp_Holland_1_2012)\n",
    "\n",
    "fp_Holland_1_2013 = 'Dataframes/Holland_First_League_2013.csv'\n",
    "df_Holland_1_2013 = pd.read_csv(fp_Holland_1_2013)\n",
    "\n",
    "fp_Romania_1_2012 = 'Dataframes/Romanian_First_League_2012.csv'\n",
    "df_Romania_1_2012 = pd.read_csv(fp_Romania_1_2012)\n",
    "\n",
    "fp_Romania_1_2013 = 'Dataframes/Romanian_First_League_2013.csv'\n",
    "df_Romania_1_2013 = pd.read_csv(fp_Romania_1_2013)\n",
    "\n",
    "fp_Russia_1_2012 = 'Dataframes/Russian_First_League_2012.csv'\n",
    "df_Russia_1_2012 = pd.read_csv(fp_Russia_1_2012)\n",
    "\n",
    "fp_Russia_1_2013 = 'Dataframes/Russian_First_League_2013.csv'\n",
    "df_Russia_1_2013 = pd.read_csv(fp_Russia_1_2013)\n",
    "\n",
    "fp_Turkey_1_2012 = 'Dataframes/Turkey_First_League_2012.csv'\n",
    "df_Turkey_1_2012 = pd.read_csv(fp_Turkey_1_2012)\n",
    "\n",
    "fp_Turkey_1_2013 = 'Dataframes/Turkey_First_League_2013.csv'\n",
    "df_Turkey_1_2013 = pd.read_csv(fp_Turkey_1_2013)"
   ]
  },
  {
   "cell_type": "markdown",
   "id": "7a09bed7",
   "metadata": {},
   "source": [
    "Concatenate dataframes"
   ]
  },
  {
   "cell_type": "code",
   "execution_count": 4,
   "id": "291bc2fc",
   "metadata": {},
   "outputs": [],
   "source": [
    "frames_2012 = [df_England_1_2012, \n",
    "               df_England_2_2012,\n",
    "               df_Spain_1_2012,\n",
    "               df_Spain_2_2012,\n",
    "               df_Italy_1_2012,\n",
    "               df_Italy_2_2012,\n",
    "               df_Germany_1_2012,\n",
    "               df_Germany_2_2012,\n",
    "               df_France_1_2012,\n",
    "               df_Portugal_1_2012,\n",
    "               df_Belgium_1_2012,\n",
    "               df_Holland_1_2012,\n",
    "               df_Romania_1_2012,\n",
    "               df_Russia_1_2012,\n",
    "               df_Turkey_1_2012\n",
    "              ]\n",
    "  \n",
    "concatenated_2012 = pd.concat(frames_2012)\n",
    "\n",
    "#display(HTML(concatenated_2012.to_html()))"
   ]
  },
  {
   "cell_type": "markdown",
   "id": "5e9de371",
   "metadata": {},
   "source": [
    "Export concatenated dataframes to \"Dataframes/Concatenated_2012.csv\""
   ]
  },
  {
   "cell_type": "code",
   "execution_count": 4,
   "id": "3818575e",
   "metadata": {},
   "outputs": [],
   "source": [
    "# Export to CSV\n",
    "fp_2012 = 'Dataframes/Concatenated_2012.csv'\n",
    "concatenated_2012.to_csv(fp_2012, index=False)"
   ]
  }
 ],
 "metadata": {
  "kernelspec": {
   "display_name": "Python 3",
   "language": "python",
   "name": "python3"
  },
  "language_info": {
   "codemirror_mode": {
    "name": "ipython",
    "version": 3
   },
   "file_extension": ".py",
   "mimetype": "text/x-python",
   "name": "python",
   "nbconvert_exporter": "python",
   "pygments_lexer": "ipython3",
   "version": "3.6.8"
  }
 },
 "nbformat": 4,
 "nbformat_minor": 5
}
